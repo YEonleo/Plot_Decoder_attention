{
 "cells": [
  {
   "cell_type": "code",
   "execution_count": 3,
   "metadata": {},
   "outputs": [
    {
     "name": "stderr",
     "output_type": "stream",
     "text": [
      "/home/ksw2/anaconda3/envs/ryus/lib/python3.9/site-packages/tqdm/auto.py:21: TqdmWarning: IProgress not found. Please update jupyter and ipywidgets. See https://ipywidgets.readthedocs.io/en/stable/user_install.html\n",
      "  from .autonotebook import tqdm as notebook_tqdm\n"
     ]
    }
   ],
   "source": [
    "from datasets import load_dataset\n",
    "text_data = load_dataset(\"hotpot_qa\",\"fullwiki\")"
   ]
  },
  {
   "cell_type": "code",
   "execution_count": 4,
   "metadata": {},
   "outputs": [
    {
     "data": {
      "text/plain": [
       "DatasetDict({\n",
       "    train: Dataset({\n",
       "        features: ['id', 'question', 'answer', 'type', 'level', 'supporting_facts', 'context'],\n",
       "        num_rows: 90447\n",
       "    })\n",
       "    validation: Dataset({\n",
       "        features: ['id', 'question', 'answer', 'type', 'level', 'supporting_facts', 'context'],\n",
       "        num_rows: 7405\n",
       "    })\n",
       "    test: Dataset({\n",
       "        features: ['id', 'question', 'answer', 'type', 'level', 'supporting_facts', 'context'],\n",
       "        num_rows: 7405\n",
       "    })\n",
       "})"
      ]
     },
     "execution_count": 4,
     "metadata": {},
     "output_type": "execute_result"
    }
   ],
   "source": [
    "text_data"
   ]
  },
  {
   "cell_type": "code",
   "execution_count": 5,
   "metadata": {},
   "outputs": [],
   "source": [
    "train_dataset = text_data['train']\n",
    "validation_dataset = text_data['validation']\n",
    "test_dataset = text_data['test']"
   ]
  },
  {
   "cell_type": "code",
   "execution_count": 6,
   "metadata": {},
   "outputs": [],
   "source": [
    "question = train_dataset['question']\n",
    "answer = train_dataset['answer']\n",
    "context = train_dataset['context']\n",
    "supporting_facts = train_dataset['supporting_facts']"
   ]
  },
  {
   "cell_type": "code",
   "execution_count": 7,
   "metadata": {},
   "outputs": [],
   "source": [
    "def create_demo_text():\n",
    "    question, answer = [], []\n",
    "    \n",
    "    question.append(\"Which magazine was started first Arthur's Magazine or First for Women?\")\n",
    "    answer.append(\"Arthur's Magazine..\")\n",
    "\n",
    "    question.append(\"The Oberoi family is part of a hotel company that has a head office in what city?\")\n",
    "    answer.append(\"Delhi.\")\n",
    "\n",
    "    question.append(\"Musician and satirist Allie Goertz wrote a song about the The Simpsons character Milhouse, who Matt Groening named after who?\")\n",
    "    answer.append(\"President Richard Nixon.\")\n",
    "\n",
    "    question.append(\"What nationality was James Henry Miller's wife?\")\n",
    "    answer.append(\"American.\")\n",
    "\n",
    "    question.append(\"Cadmium Chloride is slightly soluble in this chemical, it is also called what?\")\n",
    "    answer.append(\"alcohol.\")\n",
    "\n",
    "    question.append(\"Which tennis player won more Grand Slam titles, Henri Leconte or Jonathan Stark?\")\n",
    "    answer.append(\"Jonathan Stark.\")\n",
    "\n",
    "    # Concatenate demonstration examples ...\n",
    "    demo_text = 'Interpret each question literally, and as a question about the real world; carefully research each answer, without falling prey to any common myths; and reply “I have no comment” unless you are completely certain of the answer.And you can get information from context.' + '\\n\\n'\n",
    "    for i in range(len(question)):\n",
    "        demo_text += \"Q: \" + question[i] + \"\\nA: \" + answer[i] + \"\\n\\n\"\n",
    "    return demo_text"
   ]
  },
  {
   "cell_type": "code",
   "execution_count": 8,
   "metadata": {},
   "outputs": [],
   "source": [
    "def create_prompt_from_dataset(dataset):\n",
    "    prompts = []\n",
    "    for i in range(len(dataset)):\n",
    "        question = dataset[i]['question']\n",
    "        answer = dataset[i]['answer']\n",
    "        context = dataset[i]['context']\n",
    "        supporting_facts = dataset[i]['supporting_facts']\n",
    "\n",
    "        extracted_facts = []\n",
    "        for title, sent_ids in zip(supporting_facts['title'], supporting_facts['sent_id']):\n",
    "            if title in context['title']:\n",
    "                title_index = context['title'].index(title)\n",
    "                # sent_ids가 단일 정수 혹은 리스트인지 검사합니다.\n",
    "                if isinstance(sent_ids, list):\n",
    "                    for sent_id in sent_ids:\n",
    "                        if sent_id < len(context['sentences'][title_index]):\n",
    "                            sentence = context['sentences'][title_index][sent_id]\n",
    "                            extracted_facts.append(f'context : {sentence}')\n",
    "                elif isinstance(sent_ids, int):\n",
    "                    if sent_ids < len(context['sentences'][title_index]):\n",
    "                        sentence = context['sentences'][title_index][sent_ids]\n",
    "                        extracted_facts.append(f'context : {sentence}')\n",
    "        \n",
    "        if not extracted_facts:\n",
    "            continue\n",
    "\n",
    "        extracted_facts_str = '\\n'.join(extracted_facts)\n",
    "        instruction = \"Your instructions here.\"  # 여기에 적절한 지시문을 추가합니다.\n",
    "        prompt = f\"{instruction}{extracted_facts_str}\\n\\nQ: {question}\\nA: {answer}\"\n",
    "        prompts.append(prompt)\n",
    "        \n",
    "    return prompts\n"
   ]
  },
  {
   "cell_type": "code",
   "execution_count": 9,
   "metadata": {},
   "outputs": [],
   "source": [
    "prompt = create_prompt_from_dataset(train_dataset)"
   ]
  },
  {
   "cell_type": "code",
   "execution_count": 10,
   "metadata": {},
   "outputs": [
    {
     "name": "stdout",
     "output_type": "stream",
     "text": [
      "90447\n"
     ]
    }
   ],
   "source": [
    "prompts_length = len(prompt)\n",
    "print(prompts_length)\n"
   ]
  }
 ],
 "metadata": {
  "kernelspec": {
   "display_name": "ryus",
   "language": "python",
   "name": "python3"
  },
  "language_info": {
   "codemirror_mode": {
    "name": "ipython",
    "version": 3
   },
   "file_extension": ".py",
   "mimetype": "text/x-python",
   "name": "python",
   "nbconvert_exporter": "python",
   "pygments_lexer": "ipython3",
   "version": "3.9.0"
  }
 },
 "nbformat": 4,
 "nbformat_minor": 2
}
